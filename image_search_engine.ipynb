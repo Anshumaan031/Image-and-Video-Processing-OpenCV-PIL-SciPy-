{
 "cells": [
  {
   "cell_type": "markdown",
   "metadata": {
    "id": "wcrOk6pURp50"
   },
   "source": [
    "### Import Packages"
   ]
  },
  {
   "cell_type": "code",
   "execution_count": null,
   "metadata": {
    "id": "VJaCNlDDRz6d"
   },
   "outputs": [],
   "source": [
    "# import the necessary packages\n",
    "from matplotlib import pyplot as plt\n",
    "import numpy as np\n",
    "import imutils\n",
    "import argparse\n",
    "import glob\n",
    "import cv2\n",
    "import csv"
   ]
  },
  {
   "cell_type": "markdown",
   "metadata": {
    "id": "lBrLwCtN5kqy"
   },
   "source": [
    "### Function to display images in Jupyter Notebooks and Google Colab"
   ]
  },
  {
   "cell_type": "code",
   "execution_count": null,
   "metadata": {
    "id": "fRw969Dp5Kdm"
   },
   "outputs": [],
   "source": [
    "def plt_imshow(title, image):\n",
    "\t# convert the image frame BGR to RGB color space and display it\n",
    "\timage = cv2.cvtColor(image, cv2.COLOR_BGR2RGB)\n",
    "\tplt.imshow(image)\n",
    "\tplt.title(title)\n",
    "\tplt.grid(False)\n",
    "\tplt.show()"
   ]
  },
  {
   "cell_type": "markdown",
   "metadata": {
    "id": "Jppw5-Bd56H-"
   },
   "source": [
    "### Step 1: Defining our Image Descriptor"
   ]
  },
  {
   "cell_type": "code",
   "execution_count": null,
   "metadata": {
    "id": "DhV7I1ixBtZC"
   },
   "outputs": [],
   "source": [
    "class ColorDescriptor:\n",
    "\tdef __init__(self, bins):\n",
    "\t\t# store the number of bins for the 3D histogram\n",
    "\t\tself.bins = bins\n",
    "\n",
    "\tdef describe(self, image):\n",
    "\t\t# convert the image to the HSV color space and initialize\n",
    "\t\t# the features used to quantify the image\n",
    "\t\timage = cv2.cvtColor(image, cv2.COLOR_BGR2HSV)\n",
    "\t\tfeatures = []\n",
    "\n",
    "\t\t# grab the dimensions and compute the center of the image\n",
    "\t\t(h, w) = image.shape[:2]\n",
    "\t\t(cX, cY) = (int(w * 0.5), int(h * 0.5))\n",
    "\n",
    "\t\t# divide the image into four rectangles/segments (top-left,\n",
    "\t\t# top-right, bottom-right, bottom-left)\n",
    "\t\tsegments = [(0, cX, 0, cY), (cX, w, 0, cY), (cX, w, cY, h),\n",
    "\t\t\t(0, cX, cY, h)]\n",
    "\n",
    "\t\t# construct an elliptical mask representing the center of the\n",
    "\t\t# image\n",
    "\t\t(axesX, axesY) = (int(w * 0.75) // 2, int(h * 0.75) // 2)\n",
    "\t\tellipMask = np.zeros(image.shape[:2], dtype = \"uint8\")\n",
    "\t\tcv2.ellipse(ellipMask, (cX, cY), (axesX, axesY), 0, 0, 360, 255, -1)\n",
    "\n",
    "\t\t# loop over the segments\n",
    "\t\tfor (startX, endX, startY, endY) in segments:\n",
    "\t\t\t# construct a mask for each corner of the image, subtracting\n",
    "\t\t\t# the elliptical center from it\n",
    "\t\t\tcornerMask = np.zeros(image.shape[:2], dtype = \"uint8\")\n",
    "\t\t\tcv2.rectangle(cornerMask, (startX, startY), (endX, endY), 255, -1)\n",
    "\t\t\tcornerMask = cv2.subtract(cornerMask, ellipMask)\n",
    "\n",
    "\t\t\t# extract a color histogram from the image, then update the\n",
    "\t\t\t# feature vector\n",
    "\t\t\thist = self.histogram(image, cornerMask)\n",
    "\t\t\tfeatures.extend(hist)\n",
    "\n",
    "\t\t# extract a color histogram from the elliptical region and\n",
    "\t\t# update the feature vector\n",
    "\t\thist = self.histogram(image, ellipMask)\n",
    "\t\tfeatures.extend(hist)\n",
    "\n",
    "\t\t# return the feature vector\n",
    "\t\treturn features\n",
    "\n",
    "\tdef histogram(self, image, mask):\n",
    "\t\t# extract a 3D color histogram from the masked region of the\n",
    "\t\t# image, using the supplied number of bins per channel\n",
    "\t\thist = cv2.calcHist([image], [0, 1, 2], mask, self.bins,\n",
    "\t\t\t[0, 180, 0, 256, 0, 256])\n",
    "\n",
    "\t\t# normalize the histogram if we are using OpenCV 2.4\n",
    "\t\tif imutils.is_cv2():\n",
    "\t\t\thist = cv2.normalize(hist).flatten()\n",
    "\n",
    "\t\t# otherwise handle for OpenCV 3+\n",
    "\t\telse:\n",
    "\t\t\thist = cv2.normalize(hist, hist).flatten()\n",
    "\n",
    "\t\t# return the histogram\n",
    "\t\treturn hist"
   ]
  },
  {
   "cell_type": "markdown",
   "metadata": {
    "id": "oqiQoXKYGN_A"
   },
   "source": [
    "### Step 2: Extracting Features from Our Dataset"
   ]
  },
  {
   "cell_type": "code",
   "execution_count": null,
   "metadata": {
    "id": "okM7Bpyeq8Kc"
   },
   "outputs": [],
   "source": [
    "# construct the argument parser and parse the arguments\n",
    "#ap = argparse.ArgumentParser()\n",
    "#ap.add_argument(\"-d\", \"--dataset\", required = True,\n",
    "#\thelp = \"Path to the directory that contains the images to be indexed\")\n",
    "#ap.add_argument(\"-i\", \"--index\", required = True,\n",
    "#\thelp = \"Path to where the computed index will be stored\")\n",
    "#args = vars(ap.parse_args())\n",
    "\n",
    "# since we are using Jupyter Notebooks we can replace our argument\n",
    "# parsing code with *hard coded* arguments and values\n",
    "args = {\n",
    "\t\"dataset\": \"dataset\",\n",
    "\t\"index\": \"index.csv\"\n",
    "\t}"
   ]
  },
  {
   "cell_type": "code",
   "execution_count": null,
   "metadata": {
    "id": "LPLAB3chCiWd"
   },
   "outputs": [],
   "source": [
    "# initialize the color descriptor\n",
    "cd = ColorDescriptor((8, 12, 3))\n",
    "\n",
    "# open the output index file for writing\n",
    "output = open(args[\"index\"], \"w\")\n",
    "\n",
    "# use glob to grab the image paths and loop over them\n",
    "for imagePath in glob.glob(args[\"dataset\"] + \"/*.png\"):\n",
    "\t# extract the image ID (i.e. the unique filename) from the image\n",
    "\t# path and load the image itself\n",
    "\timageID = imagePath[imagePath.rfind(\"/\") + 1:]\n",
    "\timage = cv2.imread(imagePath)\n",
    "\n",
    "\t# describe the image\n",
    "\tfeatures = cd.describe(image)\n",
    "\n",
    "\t# write the features to file\n",
    "\tfeatures = [str(f) for f in features]\n",
    "\toutput.write(\"%s,%s\\n\" % (imageID, \",\".join(features)))\n",
    "\n",
    "# close the index file\n",
    "output.close()"
   ]
  },
  {
   "cell_type": "markdown",
   "metadata": {
    "id": "SHOIYb-lDp2k"
   },
   "source": [
    "###  Step 3: The Searcher"
   ]
  },
  {
   "cell_type": "code",
   "execution_count": null,
   "metadata": {
    "id": "LJnZnjlNCiVE"
   },
   "outputs": [],
   "source": [
    "class Searcher:\n",
    "\tdef __init__(self, indexPath):\n",
    "\t\t# store our index path\n",
    "\t\tself.indexPath = indexPath\n",
    "\n",
    "\tdef search(self, queryFeatures, limit = 10):\n",
    "\t\t# initialize our dictionary of results\n",
    "\t\tresults = {}\n",
    "\n",
    "\t\t# open the index file for reading\n",
    "\t\twith open(self.indexPath) as f:\n",
    "\t\t\t# initialize the CSV reader\n",
    "\t\t\treader = csv.reader(f)\n",
    "\n",
    "\t\t\t# loop over the rows in the index\n",
    "\t\t\tfor row in reader:\n",
    "\t\t\t\t# parse out the image ID and features, then compute the\n",
    "\t\t\t\t# chi-squared distance between the features in our index\n",
    "\t\t\t\t# and our query features\n",
    "\t\t\t\tfeatures = [float(x) for x in row[1:]]\n",
    "\t\t\t\td = self.chi2_distance(features, queryFeatures)\n",
    "\n",
    "\t\t\t\t# now that we have the distance between the two feature\n",
    "\t\t\t\t# vectors, we can udpate the results dictionary -- the\n",
    "\t\t\t\t# key is the current image ID in the index and the\n",
    "\t\t\t\t# value is the distance we just computed, representing\n",
    "\t\t\t\t# how 'similar' the image in the index is to our query\n",
    "\t\t\t\tresults[row[0]] = d\n",
    "\n",
    "\t\t\t# close the reader\n",
    "\t\t\tf.close()\n",
    "\n",
    "\t\t# sort our results, so that the smaller distances (i.e. the\n",
    "\t\t# more relevant images are at the front of the list)\n",
    "\t\tresults = sorted([(v, k) for (k, v) in results.items()])\n",
    "\n",
    "\t\t# return our (limited) results\n",
    "\t\treturn results[:limit]\n",
    "\n",
    "\tdef chi2_distance(self, histA, histB, eps = 1e-10):\n",
    "\t\t# compute the chi-squared distance\n",
    "\t\td = 0.5 * np.sum([((a - b) ** 2) / (a + b + eps)\n",
    "\t\t\tfor (a, b) in zip(histA, histB)])\n",
    "\n",
    "\t\t# return the chi-squared distance\n",
    "\t\treturn d"
   ]
  },
  {
   "cell_type": "markdown",
   "metadata": {
    "id": "TbLG7vZGD4L2"
   },
   "source": [
    "### Step 4: Performing a Search"
   ]
  },
  {
   "cell_type": "code",
   "execution_count": null,
   "metadata": {
    "id": "muEzNNrlCiTL"
   },
   "outputs": [],
   "source": [
    "# construct the argument parser and parse the arguments\n",
    "#ap = argparse.ArgumentParser()\n",
    "#ap.add_argument(\"-i\", \"--index\", required = True,\n",
    "#\thelp = \"Path to where the computed index will be stored\")\n",
    "#ap.add_argument(\"-q\", \"--query\", required = True,\n",
    "#\thelp = \"Path to the query image\")\n",
    "#ap.add_argument(\"-r\", \"--result-path\", required = True,\n",
    "#\thelp = \"Path to the result path\")\n",
    "#args = vars(ap.parse_args())\n",
    "\n",
    "# since we are using Jupyter Notebooks we can replace our argument\n",
    "# parsing code with *hard coded* arguments and values\n",
    "args = {\n",
    "\t\"index\": \"index.csv\",\n",
    "\t\"query\": \"queries/108100.png\",\n",
    "\t\"result_path\": \"dataset\",\n",
    "}"
   ]
  },
  {
   "cell_type": "code",
   "execution_count": null,
   "metadata": {
    "id": "urS6G5RYCiQR"
   },
   "outputs": [],
   "source": [
    "# load the query image and describe it\n",
    "query = cv2.imread(args[\"query\"])\n",
    "features = cd.describe(query)\n",
    "\n",
    "# perform the search\n",
    "searcher = Searcher(args[\"index\"])\n",
    "results = searcher.search(features)\n",
    "\n",
    "# display the query\n",
    "plt_imshow(\"Query\", query)\n",
    "\n",
    "# loop over the results\n",
    "for (score, resultID) in results:\n",
    "\t# load the result image and display it\n",
    "\tresult = cv2.imread(args[\"result_path\"] + \"/\" + resultID)\n",
    "\tplt_imshow(\"Result\", result)"
   ]
  }
 ],
 "metadata": {
  "colab": {
   "collapsed_sections": [],
   "name": "Vacation_image_search_engine.ipynb",
   "provenance": []
  },
  "kernelspec": {
   "display_name": "Python 3",
   "language": "python",
   "name": "python3"
  },
  "language_info": {
   "codemirror_mode": {
    "name": "ipython",
    "version": 3
   },
   "file_extension": ".py",
   "mimetype": "text/x-python",
   "name": "python",
   "nbconvert_exporter": "python",
   "pygments_lexer": "ipython3",
   "version": "3.8.8"
  }
 },
 "nbformat": 4,
 "nbformat_minor": 1
}
